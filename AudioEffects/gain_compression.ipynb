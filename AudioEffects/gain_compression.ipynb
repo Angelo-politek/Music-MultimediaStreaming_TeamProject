{
 "cells": [
  {
   "cell_type": "code",
   "execution_count": null,
   "id": "9c3fc392-d9d4-4c4a-91af-d47bd50bfa3d",
   "metadata": {},
   "outputs": [],
   "source": [
    "#GAIN COMPRESSION"
   ]
  },
  {
   "cell_type": "code",
   "execution_count": null,
   "id": "84dfbc28-1b5b-4730-b110-1cd58ef72dba",
   "metadata": {},
   "outputs": [],
   "source": [
    "import numpy as np"
   ]
  },
  {
   "cell_type": "code",
   "execution_count": 15,
   "id": "dea27f3c-175a-454f-895b-1042890be036",
   "metadata": {},
   "outputs": [],
   "source": [
    "def gain_compressin(audio_sample, threshold_db=-20.0, ratio=4.0, attack_ms=10, release_ms=100, sample_rate=44100, makeup_gain_db=0.0):\n",
    "     # from dB to linear\n",
    "    threshold = 10 ** (threshold_db / 20)\n",
    "    makeup_gain = 10 ** (makeup_gain_db / 20)\n",
    "\n",
    "    # initialize variables\n",
    "    compressed = np.zeros_like(audio_samples)   #output array, pre-allocatin of memory\n",
    "    gain_reduction = 1.0\n",
    "    envelope = 0.0\n",
    "    alpha_attack = np.exp(-1.0 / attack_samples)\n",
    "    alpha_release = np.exp(-1.0 / release_samples)\n",
    "\n",
    "     # process each sample\n",
    "    for i in range(len(audio_samples)):\n",
    "        abs_sample = abs(audio_samples[i])\n",
    "        if envelope < abs_sample:\n",
    "            envelope = alpha_attack * envelope + (1 - alpha_attack) * abs_sample     #attack phase\n",
    "        else:\n",
    "            envelope = alpha_release * envelope + (1 - alpha_release) * abs_sample   #release phase\n",
    "        \"\"\"\n",
    "        for a sudden increase in a sample, the envelope rises with the time constand\n",
    "        for a decrease, envelope decays\n",
    "        \"\"\"\n",
    "\n",
    "         # calculate gain reduction\n",
    "        if envelope > threshold:\n",
    "            # how much above the th\n",
    "            over_threshold = envelope / threshold\n",
    "            over_db = 20 * np.log10(over_threshold)\n",
    "            # calculate gain reduction in dB\n",
    "            gain_reduction_db = over_db - (over_db / ratio)\n",
    "            # Convert to linear scale\n",
    "            gain_reduction = 10 ** (gain_reduction_db / 20)\n",
    "    \n",
    "        else:\n",
    "            gain_reduction = 1.0   #do nothing\n",
    "    \n",
    "             # Apply gain reduction and makeup gain\n",
    "            compressed[i] = audio_samples[i] * gain_reduction * makeup_gain\n",
    "\n",
    "          \n",
    "    return compressed\n"
   ]
  },
  {
   "cell_type": "code",
   "execution_count": null,
   "id": "97c3034b-f5ae-4d92-b6b5-3c11109dc76e",
   "metadata": {},
   "outputs": [],
   "source": [
    "#alpha: we want a number to tell us how non-linear the amp is"
   ]
  },
  {
   "cell_type": "code",
   "execution_count": null,
   "id": "817c5042-66bd-46f2-9904-a63ceeea339e",
   "metadata": {},
   "outputs": [],
   "source": []
  }
 ],
 "metadata": {
  "kernelspec": {
   "display_name": "Python 3 (ipykernel)",
   "language": "python",
   "name": "python3"
  },
  "language_info": {
   "codemirror_mode": {
    "name": "ipython",
    "version": 3
   },
   "file_extension": ".py",
   "mimetype": "text/x-python",
   "name": "python",
   "nbconvert_exporter": "python",
   "pygments_lexer": "ipython3",
   "version": "3.13.2"
  }
 },
 "nbformat": 4,
 "nbformat_minor": 5
}
